{
 "cells": [
  {
   "cell_type": "markdown",
   "metadata": {},
   "source": [
    "# Puma to Puma experiment"
   ]
  },
  {
   "cell_type": "markdown",
   "metadata": {},
   "source": [
    "- NP: Number of household people\n",
    "- HHT: Household or family type\n",
    "- HINCP: Household income \n",
    "- HUPAC: Household presence and age of children \n",
    "- WIF: Workers in family during the last 12 months\n",
    "- AGEP: Age of the person\n",
    "- SEX: Gender of the person\n",
    "- ESR: Employment status of the person \n",
    "- RAC1P: Recorded detailed race "
   ]
  },
  {
   "cell_type": "code",
   "execution_count": null,
   "metadata": {},
   "outputs": [],
   "source": [
    "import pandas as pd\n",
    "import numpy as np\n",
    "from matplotlib import pyplot as plt\n",
    "from copula_tools import *\n",
    "from utils import *"
   ]
  },
  {
   "cell_type": "code",
   "execution_count": null,
   "metadata": {},
   "outputs": [],
   "source": [
    "source = pd.read_csv('data/in/counties/Anne Arundel/PUMA_1201_Sample_Treated.csv').drop([\"PUMA\"] , axis=1)\n",
    "target = pd.read_csv('data/in/counties/Baltimore City/PUMA_804_Sample_Treated.csv').drop([\"PUMA\"] , axis=1)\n",
    "columns = source.columns\n",
    "list(columns)"
   ]
  },
  {
   "cell_type": "code",
   "execution_count": null,
   "metadata": {},
   "outputs": [],
   "source": [
    "source_scaler = CopulaScaler()\n",
    "source_scaler.fit(source)\n",
    "target_scaler = CopulaScaler()\n",
    "target_scaler.fit(target)"
   ]
  },
  {
   "cell_type": "code",
   "execution_count": null,
   "metadata": {},
   "outputs": [],
   "source": [
    "bn_data = sample_bn(source, len(target))\n",
    "bn_scaler = CopulaScaler()\n",
    "bn_scaler.fit(bn_data)"
   ]
  },
  {
   "cell_type": "code",
   "execution_count": null,
   "metadata": {},
   "outputs": [],
   "source": [
    "bn_copula_data = sample_copula(source, target, sample_bn)\n",
    "copula_scaler = CopulaScaler()\n",
    "copula_scaler.fit(bn_copula_data)"
   ]
  },
  {
   "cell_type": "code",
   "execution_count": null,
   "metadata": {},
   "outputs": [],
   "source": [
    "ipf_in(target, source, columns, \"data/in/ipf/puma\")\n",
    "ipf_data = sample_ipf(\"data/in/ipf/puma\")\n",
    "ipf_scaler = CopulaScaler()\n",
    "ipf_scaler.fit(ipf_data)"
   ]
  },
  {
   "cell_type": "code",
   "execution_count": null,
   "metadata": {},
   "outputs": [],
   "source": [
    "ind_data = sample_independent(source, target)"
   ]
  },
  {
   "cell_type": "code",
   "execution_count": null,
   "metadata": {},
   "outputs": [],
   "source": [
    "synthetic_data = {\n",
    "    \"Independent\": ind_data,\n",
    "    \"IPF\": ipf_data,\n",
    "    \"BN\": bn_data,\n",
    "    \"BN Copula\": bn_copula_data,\n",
    "}\n",
    "srmse_dict = {}"
   ]
  },
  {
   "cell_type": "markdown",
   "metadata": {},
   "source": [
    "### Results"
   ]
  },
  {
   "cell_type": "code",
   "execution_count": null,
   "metadata": {},
   "outputs": [],
   "source": [
    "fig, axs = plt.subplots(2, 3, figsize=(16, 8))\n",
    "columns_toplot = list(columns.drop(\"SEX\"))\n",
    "k = 0\n",
    "for i in range(2):\n",
    "    for j in range(3):\n",
    "        axs[i, j].step(\n",
    "            np.array(source_scaler.ecdf_map[columns_toplot[k]])[:,0],\n",
    "            np.array(source_scaler.ecdf_map[columns_toplot[k]])[:,1],\n",
    "            lw=2.5,\n",
    "            alpha=0.75,\n",
    "            label='Training',\n",
    "        )\n",
    "        axs[i, j].step(\n",
    "            np.array(target_scaler.ecdf_map[columns_toplot[k]])[:,0],\n",
    "            np.array(target_scaler.ecdf_map[columns_toplot[k]])[:,1],\n",
    "            lw=2.5,\n",
    "            alpha=0.75,\n",
    "            label='Reference',\n",
    "        )\n",
    "        axs[i, j].step(\n",
    "            np.array(ipf_scaler.ecdf_map[columns_toplot[k]])[:,0],\n",
    "            np.array(ipf_scaler.ecdf_map[columns_toplot[k]])[:,1],\n",
    "            linestyle='dotted', \n",
    "            markevery=2,\n",
    "            lw=3,\n",
    "            label='IPF',\n",
    "        )\n",
    "        axs[i, j].step(\n",
    "            np.array(bn_scaler.ecdf_map[columns_toplot[k]])[:,0],\n",
    "            np.array(bn_scaler.ecdf_map[columns_toplot[k]])[:,1],\n",
    "            linestyle='dotted', \n",
    "            markevery=2,\n",
    "            lw=3,\n",
    "            label='BN',\n",
    "        )\n",
    "        axs[i, j].step(\n",
    "            np.array(copula_scaler.ecdf_map[columns_toplot[k]])[:,0],\n",
    "            np.array(copula_scaler.ecdf_map[columns_toplot[k]])[:,1],\n",
    "            linestyle='dotted', \n",
    "            markevery=2,\n",
    "            lw=3,\n",
    "            label='BN + Copula',\n",
    "        )\n",
    "        axs[i, j].set_title(columns_toplot[k])\n",
    "        k += 1 \n",
    "\n",
    "axs[-1, -1].legend(loc='lower right', frameon=True)\n",
    "plt.tight_layout()\n",
    "plt.savefig(\"data/out/puma/ecdf.png\")\n",
    "plt.show()\n"
   ]
  },
  {
   "cell_type": "code",
   "execution_count": null,
   "metadata": {},
   "outputs": [],
   "source": [
    "result_table(source, target, synthetic_data, columns, max_projection=5, save=True, path=\"data/out/puma\").round(2)"
   ]
  }
 ],
 "metadata": {
  "kernelspec": {
   "display_name": "popgen",
   "language": "python",
   "name": "python3"
  },
  "language_info": {
   "codemirror_mode": {
    "name": "ipython",
    "version": 3
   },
   "file_extension": ".py",
   "mimetype": "text/x-python",
   "name": "python",
   "nbconvert_exporter": "python",
   "pygments_lexer": "ipython3",
   "version": "3.8.18"
  },
  "orig_nbformat": 4
 },
 "nbformat": 4,
 "nbformat_minor": 2
}
